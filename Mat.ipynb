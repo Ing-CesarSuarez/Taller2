{
 "cells": [
  {
   "cell_type": "code",
   "execution_count": 28,
   "id": "95d9f700-54df-4aaf-9c27-e83a449d0d20",
   "metadata": {},
   "outputs": [
    {
     "ename": "ModuleNotFoundError",
     "evalue": "No module named 'sweetviz'",
     "output_type": "error",
     "traceback": [
      "\u001b[1;31m---------------------------------------------------------------------------\u001b[0m",
      "\u001b[1;31mModuleNotFoundError\u001b[0m                       Traceback (most recent call last)",
      "\u001b[1;32m~\\AppData\\Local\\Temp/ipykernel_15148/1490206985.py\u001b[0m in \u001b[0;36m<module>\u001b[1;34m\u001b[0m\n\u001b[0;32m      4\u001b[0m \u001b[1;32mimport\u001b[0m \u001b[0mseaborn\u001b[0m \u001b[1;32mas\u001b[0m \u001b[0msns\u001b[0m\u001b[1;33m\u001b[0m\u001b[1;33m\u001b[0m\u001b[0m\n\u001b[0;32m      5\u001b[0m \u001b[1;32mimport\u001b[0m \u001b[0mstatsmodels\u001b[0m\u001b[1;33m.\u001b[0m\u001b[0mapi\u001b[0m \u001b[1;32mas\u001b[0m \u001b[0msm\u001b[0m\u001b[1;33m\u001b[0m\u001b[1;33m\u001b[0m\u001b[0m\n\u001b[1;32m----> 6\u001b[1;33m \u001b[1;32mimport\u001b[0m \u001b[0msweetviz\u001b[0m \u001b[1;32mas\u001b[0m \u001b[0msv\u001b[0m\u001b[1;33m\u001b[0m\u001b[1;33m\u001b[0m\u001b[0m\n\u001b[0m\u001b[0;32m      7\u001b[0m \u001b[1;32mfrom\u001b[0m \u001b[0mIPython\u001b[0m\u001b[1;33m.\u001b[0m\u001b[0mdisplay\u001b[0m \u001b[1;32mimport\u001b[0m \u001b[0mHTML\u001b[0m\u001b[1;33m\u001b[0m\u001b[1;33m\u001b[0m\u001b[0m\n",
      "\u001b[1;31mModuleNotFoundError\u001b[0m: No module named 'sweetviz'"
     ]
    }
   ],
   "source": [
    "import pandas as pd\n",
    "import numpy as np\n",
    "import matplotlib.pyplot as plt\n",
    "import seaborn as sns\n",
    "import statsmodels.api as sm\n",
    "import sweetviz as sv\n",
    "from IPython.display import HTML"
   ]
  },
  {
   "cell_type": "code",
   "execution_count": null,
   "id": "30721c9c-c40b-424d-b638-e39b7665a8ed",
   "metadata": {},
   "outputs": [],
   "source": []
  },
  {
   "cell_type": "code",
   "execution_count": 2,
   "id": "45d2e996-74c8-4f65-807d-1c217c8e338d",
   "metadata": {},
   "outputs": [],
   "source": [
    "data = pd.read_excel(\"Documents/Felipe Camelo/Maestría/student-mat.xlsx\")"
   ]
  },
  {
   "cell_type": "code",
   "execution_count": 3,
   "id": "f80bafd1-2c99-4e1c-afc1-6c40b921761a",
   "metadata": {},
   "outputs": [
    {
     "name": "stdout",
     "output_type": "stream",
     "text": [
      "    school sex  age address famsize Pstatus  Medu  Fedu      Mjob      Fjob  \\\n",
      "0       GP   F   18       U     GT3       A     4     4   at_home   teacher   \n",
      "1       GP   F   17       U     GT3       T     1     1   at_home     other   \n",
      "2       GP   F   15       U     LE3       T     1     1   at_home     other   \n",
      "3       GP   F   15       U     GT3       T     4     2    health  services   \n",
      "4       GP   F   16       U     GT3       T     3     3     other     other   \n",
      "..     ...  ..  ...     ...     ...     ...   ...   ...       ...       ...   \n",
      "390     MS   M   20       U     LE3       A     2     2  services  services   \n",
      "391     MS   M   17       U     LE3       T     3     1  services  services   \n",
      "392     MS   M   21       R     GT3       T     1     1     other     other   \n",
      "393     MS   M   18       R     LE3       T     3     2  services     other   \n",
      "394     MS   M   19       U     LE3       T     1     1     other   at_home   \n",
      "\n",
      "     ... famrel freetime  goout  Dalc  Walc health absences  G1  G2  G3  \n",
      "0    ...      4        3      4     1     1      3        6   5   6   6  \n",
      "1    ...      5        3      3     1     1      3        4   5   5   6  \n",
      "2    ...      4        3      2     2     3      3       10   7   8  10  \n",
      "3    ...      3        2      2     1     1      5        2  15  14  15  \n",
      "4    ...      4        3      2     1     2      5        4   6  10  10  \n",
      "..   ...    ...      ...    ...   ...   ...    ...      ...  ..  ..  ..  \n",
      "390  ...      5        5      4     4     5      4       11   9   9   9  \n",
      "391  ...      2        4      5     3     4      2        3  14  16  16  \n",
      "392  ...      5        5      3     3     3      3        3  10   8   7  \n",
      "393  ...      4        4      1     3     4      5        0  11  12  10  \n",
      "394  ...      3        2      3     3     3      5        5   8   9   9  \n",
      "\n",
      "[395 rows x 33 columns]\n"
     ]
    }
   ],
   "source": [
    "print(data)"
   ]
  },
  {
   "cell_type": "code",
   "execution_count": 4,
   "id": "c5008a5f-2674-4401-b343-8a0b2be102c4",
   "metadata": {},
   "outputs": [
    {
     "data": {
      "text/plain": [
       "Index(['school', 'sex', 'age', 'address', 'famsize', 'Pstatus', 'Medu', 'Fedu',\n",
       "       'Mjob', 'Fjob', 'reason', 'guardian', 'traveltime', 'studytime',\n",
       "       'failures', 'schoolsup', 'famsup', 'paid', 'activities', 'nursery',\n",
       "       'higher', 'internet', 'romantic', 'famrel', 'freetime', 'goout', 'Dalc',\n",
       "       'Walc', 'health', 'absences', 'G1', 'G2', 'G3'],\n",
       "      dtype='object')"
      ]
     },
     "execution_count": 4,
     "metadata": {},
     "output_type": "execute_result"
    }
   ],
   "source": [
    "data.columns"
   ]
  },
  {
   "cell_type": "raw",
   "id": "9cee26d9-abf7-4801-8bdc-095813fbc167",
   "metadata": {},
   "source": [
    "Con el objtevio de tener una mejor interpretación sobre el analisis a realizar, se procede a cambiar los nombres de las diferentes columnas:"
   ]
  },
  {
   "cell_type": "code",
   "execution_count": 5,
   "id": "fbab78bc-9013-43cb-8f01-b1a1505fc634",
   "metadata": {},
   "outputs": [
    {
     "data": {
      "text/html": [
       "<div>\n",
       "<style scoped>\n",
       "    .dataframe tbody tr th:only-of-type {\n",
       "        vertical-align: middle;\n",
       "    }\n",
       "\n",
       "    .dataframe tbody tr th {\n",
       "        vertical-align: top;\n",
       "    }\n",
       "\n",
       "    .dataframe thead th {\n",
       "        text-align: right;\n",
       "    }\n",
       "</style>\n",
       "<table border=\"1\" class=\"dataframe\">\n",
       "  <thead>\n",
       "    <tr style=\"text-align: right;\">\n",
       "      <th></th>\n",
       "      <th>escuela</th>\n",
       "      <th>genero</th>\n",
       "      <th>edad</th>\n",
       "      <th>ubicacion</th>\n",
       "      <th>cantfami</th>\n",
       "      <th>padreseparados</th>\n",
       "      <th>educamadre</th>\n",
       "      <th>educapadre</th>\n",
       "      <th>trabajomadre</th>\n",
       "      <th>trabajopadre</th>\n",
       "      <th>...</th>\n",
       "      <th>relacionfamilia</th>\n",
       "      <th>tiempolibre</th>\n",
       "      <th>salidaamigos</th>\n",
       "      <th>alcohols</th>\n",
       "      <th>alcoholw</th>\n",
       "      <th>estadosalud</th>\n",
       "      <th>inasistencia</th>\n",
       "      <th>g1</th>\n",
       "      <th>g2</th>\n",
       "      <th>g3</th>\n",
       "    </tr>\n",
       "  </thead>\n",
       "  <tbody>\n",
       "    <tr>\n",
       "      <th>0</th>\n",
       "      <td>GP</td>\n",
       "      <td>F</td>\n",
       "      <td>18</td>\n",
       "      <td>U</td>\n",
       "      <td>GT3</td>\n",
       "      <td>A</td>\n",
       "      <td>4</td>\n",
       "      <td>4</td>\n",
       "      <td>at_home</td>\n",
       "      <td>teacher</td>\n",
       "      <td>...</td>\n",
       "      <td>4</td>\n",
       "      <td>3</td>\n",
       "      <td>4</td>\n",
       "      <td>1</td>\n",
       "      <td>1</td>\n",
       "      <td>3</td>\n",
       "      <td>6</td>\n",
       "      <td>5</td>\n",
       "      <td>6</td>\n",
       "      <td>6</td>\n",
       "    </tr>\n",
       "    <tr>\n",
       "      <th>1</th>\n",
       "      <td>GP</td>\n",
       "      <td>F</td>\n",
       "      <td>17</td>\n",
       "      <td>U</td>\n",
       "      <td>GT3</td>\n",
       "      <td>T</td>\n",
       "      <td>1</td>\n",
       "      <td>1</td>\n",
       "      <td>at_home</td>\n",
       "      <td>other</td>\n",
       "      <td>...</td>\n",
       "      <td>5</td>\n",
       "      <td>3</td>\n",
       "      <td>3</td>\n",
       "      <td>1</td>\n",
       "      <td>1</td>\n",
       "      <td>3</td>\n",
       "      <td>4</td>\n",
       "      <td>5</td>\n",
       "      <td>5</td>\n",
       "      <td>6</td>\n",
       "    </tr>\n",
       "    <tr>\n",
       "      <th>2</th>\n",
       "      <td>GP</td>\n",
       "      <td>F</td>\n",
       "      <td>15</td>\n",
       "      <td>U</td>\n",
       "      <td>LE3</td>\n",
       "      <td>T</td>\n",
       "      <td>1</td>\n",
       "      <td>1</td>\n",
       "      <td>at_home</td>\n",
       "      <td>other</td>\n",
       "      <td>...</td>\n",
       "      <td>4</td>\n",
       "      <td>3</td>\n",
       "      <td>2</td>\n",
       "      <td>2</td>\n",
       "      <td>3</td>\n",
       "      <td>3</td>\n",
       "      <td>10</td>\n",
       "      <td>7</td>\n",
       "      <td>8</td>\n",
       "      <td>10</td>\n",
       "    </tr>\n",
       "  </tbody>\n",
       "</table>\n",
       "<p>3 rows × 33 columns</p>\n",
       "</div>"
      ],
      "text/plain": [
       "  escuela genero  edad ubicacion cantfami padreseparados  educamadre  \\\n",
       "0      GP      F    18         U      GT3              A           4   \n",
       "1      GP      F    17         U      GT3              T           1   \n",
       "2      GP      F    15         U      LE3              T           1   \n",
       "\n",
       "   educapadre trabajomadre trabajopadre  ... relacionfamilia tiempolibre  \\\n",
       "0           4      at_home      teacher  ...               4           3   \n",
       "1           1      at_home        other  ...               5           3   \n",
       "2           1      at_home        other  ...               4           3   \n",
       "\n",
       "   salidaamigos  alcohols  alcoholw estadosalud inasistencia g1 g2  g3  \n",
       "0             4         1         1           3            6  5  6   6  \n",
       "1             3         1         1           3            4  5  5   6  \n",
       "2             2         2         3           3           10  7  8  10  \n",
       "\n",
       "[3 rows x 33 columns]"
      ]
     },
     "execution_count": 5,
     "metadata": {},
     "output_type": "execute_result"
    }
   ],
   "source": [
    "data.columns = ['escuela','genero','edad','ubicacion','cantfami','padreseparados','educamadre','educapadre','trabajomadre','trabajopadre','razón','tutor','tdesplaza','testudio','clasesperdidas','tutorias','tutorfamilia','clasesextra','extracur','enfermeria','univer','internet','pareja','relacionfamilia','tiempolibre','salidaamigos','alcohols','alcoholw','estadosalud','inasistencia','g1','g2','g3']\n",
    "data.head(3)"
   ]
  },
  {
   "cell_type": "code",
   "execution_count": 6,
   "id": "c5870ac1-3b17-4c73-8ab6-973e8df7aec0",
   "metadata": {},
   "outputs": [],
   "source": [
    "def RevisorData(dfe):\n",
    "  columna = dfe.columns\n",
    "  dato = [dfe[col].dtype for col in dfe]\n",
    "  tipo = ['Discreta' if dfe[col].dtype == 'int64' else 'Continua' if dfe[col].dtype == 'float64' or dfe[col].dtype == 'timedelta64[ns]' else 'Categórica' for col in dfe] \n",
    "  cant = dfe.dropna().count()\n",
    "  uni = [len(dfe[col].dropna().unique()) for col in dfe]\n",
    "  nul = dfe.isnull().sum()\n",
    "  mod = [dfe[col].value_counts().idxmax() for col in dfe]\n",
    "  c_mod = [len((dfe[dfe[col]==dfe[col].value_counts().idxmax()])) for col in dfe]\n",
    "  maxi = [dfe[col].dropna().max() if dfe[col].dtype !='object' else dfe[col].dropna().astype('str').max() for col in dfe]\n",
    "  mini = [dfe[col].dropna().min() if dfe[col].dtype !='object' else dfe[col].dropna().astype('str').min() for col in dfe]\n",
    "\n",
    "  tabla_revisa = pd.DataFrame({'Nombre':columna,'Dato':dato,'Tipo':tipo,'Valores_unicos':uni,'Valores_nulos':nul,'Moda':mod,'Cantidad_moda':c_mod,'Máximo':maxi,'Mínimo':mini})\n",
    "  \n",
    "  return tabla_revisa"
   ]
  },
  {
   "cell_type": "code",
   "execution_count": 7,
   "id": "274ae263-178a-40ae-886b-ea0e7390078f",
   "metadata": {},
   "outputs": [
    {
     "data": {
      "text/plain": [
       "(395, 33)"
      ]
     },
     "execution_count": 7,
     "metadata": {},
     "output_type": "execute_result"
    }
   ],
   "source": [
    "data.shape"
   ]
  },
  {
   "cell_type": "code",
   "execution_count": 8,
   "id": "41e1a33e-4631-47a8-bef5-b004c215cfef",
   "metadata": {},
   "outputs": [
    {
     "data": {
      "text/html": [
       "<div>\n",
       "<style scoped>\n",
       "    .dataframe tbody tr th:only-of-type {\n",
       "        vertical-align: middle;\n",
       "    }\n",
       "\n",
       "    .dataframe tbody tr th {\n",
       "        vertical-align: top;\n",
       "    }\n",
       "\n",
       "    .dataframe thead th {\n",
       "        text-align: right;\n",
       "    }\n",
       "</style>\n",
       "<table border=\"1\" class=\"dataframe\">\n",
       "  <thead>\n",
       "    <tr style=\"text-align: right;\">\n",
       "      <th></th>\n",
       "      <th>Nombre</th>\n",
       "      <th>Dato</th>\n",
       "      <th>Tipo</th>\n",
       "      <th>Valores_unicos</th>\n",
       "      <th>Valores_nulos</th>\n",
       "      <th>Moda</th>\n",
       "      <th>Cantidad_moda</th>\n",
       "      <th>Máximo</th>\n",
       "      <th>Mínimo</th>\n",
       "    </tr>\n",
       "  </thead>\n",
       "  <tbody>\n",
       "    <tr>\n",
       "      <th>escuela</th>\n",
       "      <td>escuela</td>\n",
       "      <td>object</td>\n",
       "      <td>Categórica</td>\n",
       "      <td>2</td>\n",
       "      <td>0</td>\n",
       "      <td>GP</td>\n",
       "      <td>349</td>\n",
       "      <td>MS</td>\n",
       "      <td>GP</td>\n",
       "    </tr>\n",
       "    <tr>\n",
       "      <th>genero</th>\n",
       "      <td>genero</td>\n",
       "      <td>object</td>\n",
       "      <td>Categórica</td>\n",
       "      <td>2</td>\n",
       "      <td>0</td>\n",
       "      <td>F</td>\n",
       "      <td>208</td>\n",
       "      <td>M</td>\n",
       "      <td>F</td>\n",
       "    </tr>\n",
       "    <tr>\n",
       "      <th>edad</th>\n",
       "      <td>edad</td>\n",
       "      <td>int64</td>\n",
       "      <td>Discreta</td>\n",
       "      <td>8</td>\n",
       "      <td>0</td>\n",
       "      <td>16</td>\n",
       "      <td>104</td>\n",
       "      <td>22</td>\n",
       "      <td>15</td>\n",
       "    </tr>\n",
       "    <tr>\n",
       "      <th>ubicacion</th>\n",
       "      <td>ubicacion</td>\n",
       "      <td>object</td>\n",
       "      <td>Categórica</td>\n",
       "      <td>2</td>\n",
       "      <td>0</td>\n",
       "      <td>U</td>\n",
       "      <td>307</td>\n",
       "      <td>U</td>\n",
       "      <td>R</td>\n",
       "    </tr>\n",
       "    <tr>\n",
       "      <th>cantfami</th>\n",
       "      <td>cantfami</td>\n",
       "      <td>object</td>\n",
       "      <td>Categórica</td>\n",
       "      <td>2</td>\n",
       "      <td>0</td>\n",
       "      <td>GT3</td>\n",
       "      <td>281</td>\n",
       "      <td>LE3</td>\n",
       "      <td>GT3</td>\n",
       "    </tr>\n",
       "    <tr>\n",
       "      <th>padreseparados</th>\n",
       "      <td>padreseparados</td>\n",
       "      <td>object</td>\n",
       "      <td>Categórica</td>\n",
       "      <td>2</td>\n",
       "      <td>0</td>\n",
       "      <td>T</td>\n",
       "      <td>354</td>\n",
       "      <td>T</td>\n",
       "      <td>A</td>\n",
       "    </tr>\n",
       "    <tr>\n",
       "      <th>educamadre</th>\n",
       "      <td>educamadre</td>\n",
       "      <td>int64</td>\n",
       "      <td>Discreta</td>\n",
       "      <td>5</td>\n",
       "      <td>0</td>\n",
       "      <td>4</td>\n",
       "      <td>131</td>\n",
       "      <td>4</td>\n",
       "      <td>0</td>\n",
       "    </tr>\n",
       "    <tr>\n",
       "      <th>educapadre</th>\n",
       "      <td>educapadre</td>\n",
       "      <td>int64</td>\n",
       "      <td>Discreta</td>\n",
       "      <td>5</td>\n",
       "      <td>0</td>\n",
       "      <td>2</td>\n",
       "      <td>115</td>\n",
       "      <td>4</td>\n",
       "      <td>0</td>\n",
       "    </tr>\n",
       "    <tr>\n",
       "      <th>trabajomadre</th>\n",
       "      <td>trabajomadre</td>\n",
       "      <td>object</td>\n",
       "      <td>Categórica</td>\n",
       "      <td>5</td>\n",
       "      <td>0</td>\n",
       "      <td>other</td>\n",
       "      <td>141</td>\n",
       "      <td>teacher</td>\n",
       "      <td>at_home</td>\n",
       "    </tr>\n",
       "    <tr>\n",
       "      <th>trabajopadre</th>\n",
       "      <td>trabajopadre</td>\n",
       "      <td>object</td>\n",
       "      <td>Categórica</td>\n",
       "      <td>5</td>\n",
       "      <td>0</td>\n",
       "      <td>other</td>\n",
       "      <td>217</td>\n",
       "      <td>teacher</td>\n",
       "      <td>at_home</td>\n",
       "    </tr>\n",
       "    <tr>\n",
       "      <th>razón</th>\n",
       "      <td>razón</td>\n",
       "      <td>object</td>\n",
       "      <td>Categórica</td>\n",
       "      <td>4</td>\n",
       "      <td>0</td>\n",
       "      <td>course</td>\n",
       "      <td>145</td>\n",
       "      <td>reputation</td>\n",
       "      <td>course</td>\n",
       "    </tr>\n",
       "    <tr>\n",
       "      <th>tutor</th>\n",
       "      <td>tutor</td>\n",
       "      <td>object</td>\n",
       "      <td>Categórica</td>\n",
       "      <td>3</td>\n",
       "      <td>0</td>\n",
       "      <td>mother</td>\n",
       "      <td>273</td>\n",
       "      <td>other</td>\n",
       "      <td>father</td>\n",
       "    </tr>\n",
       "    <tr>\n",
       "      <th>tdesplaza</th>\n",
       "      <td>tdesplaza</td>\n",
       "      <td>int64</td>\n",
       "      <td>Discreta</td>\n",
       "      <td>4</td>\n",
       "      <td>0</td>\n",
       "      <td>1</td>\n",
       "      <td>257</td>\n",
       "      <td>4</td>\n",
       "      <td>1</td>\n",
       "    </tr>\n",
       "    <tr>\n",
       "      <th>testudio</th>\n",
       "      <td>testudio</td>\n",
       "      <td>int64</td>\n",
       "      <td>Discreta</td>\n",
       "      <td>4</td>\n",
       "      <td>0</td>\n",
       "      <td>2</td>\n",
       "      <td>198</td>\n",
       "      <td>4</td>\n",
       "      <td>1</td>\n",
       "    </tr>\n",
       "    <tr>\n",
       "      <th>clasesperdidas</th>\n",
       "      <td>clasesperdidas</td>\n",
       "      <td>int64</td>\n",
       "      <td>Discreta</td>\n",
       "      <td>4</td>\n",
       "      <td>0</td>\n",
       "      <td>0</td>\n",
       "      <td>312</td>\n",
       "      <td>3</td>\n",
       "      <td>0</td>\n",
       "    </tr>\n",
       "    <tr>\n",
       "      <th>tutorias</th>\n",
       "      <td>tutorias</td>\n",
       "      <td>object</td>\n",
       "      <td>Categórica</td>\n",
       "      <td>2</td>\n",
       "      <td>0</td>\n",
       "      <td>no</td>\n",
       "      <td>344</td>\n",
       "      <td>yes</td>\n",
       "      <td>no</td>\n",
       "    </tr>\n",
       "    <tr>\n",
       "      <th>tutorfamilia</th>\n",
       "      <td>tutorfamilia</td>\n",
       "      <td>object</td>\n",
       "      <td>Categórica</td>\n",
       "      <td>2</td>\n",
       "      <td>0</td>\n",
       "      <td>yes</td>\n",
       "      <td>242</td>\n",
       "      <td>yes</td>\n",
       "      <td>no</td>\n",
       "    </tr>\n",
       "    <tr>\n",
       "      <th>clasesextra</th>\n",
       "      <td>clasesextra</td>\n",
       "      <td>object</td>\n",
       "      <td>Categórica</td>\n",
       "      <td>2</td>\n",
       "      <td>0</td>\n",
       "      <td>no</td>\n",
       "      <td>214</td>\n",
       "      <td>yes</td>\n",
       "      <td>no</td>\n",
       "    </tr>\n",
       "    <tr>\n",
       "      <th>extracur</th>\n",
       "      <td>extracur</td>\n",
       "      <td>object</td>\n",
       "      <td>Categórica</td>\n",
       "      <td>2</td>\n",
       "      <td>0</td>\n",
       "      <td>yes</td>\n",
       "      <td>201</td>\n",
       "      <td>yes</td>\n",
       "      <td>no</td>\n",
       "    </tr>\n",
       "    <tr>\n",
       "      <th>enfermeria</th>\n",
       "      <td>enfermeria</td>\n",
       "      <td>object</td>\n",
       "      <td>Categórica</td>\n",
       "      <td>2</td>\n",
       "      <td>0</td>\n",
       "      <td>yes</td>\n",
       "      <td>314</td>\n",
       "      <td>yes</td>\n",
       "      <td>no</td>\n",
       "    </tr>\n",
       "    <tr>\n",
       "      <th>univer</th>\n",
       "      <td>univer</td>\n",
       "      <td>object</td>\n",
       "      <td>Categórica</td>\n",
       "      <td>2</td>\n",
       "      <td>0</td>\n",
       "      <td>yes</td>\n",
       "      <td>375</td>\n",
       "      <td>yes</td>\n",
       "      <td>no</td>\n",
       "    </tr>\n",
       "    <tr>\n",
       "      <th>internet</th>\n",
       "      <td>internet</td>\n",
       "      <td>object</td>\n",
       "      <td>Categórica</td>\n",
       "      <td>2</td>\n",
       "      <td>0</td>\n",
       "      <td>yes</td>\n",
       "      <td>329</td>\n",
       "      <td>yes</td>\n",
       "      <td>no</td>\n",
       "    </tr>\n",
       "    <tr>\n",
       "      <th>pareja</th>\n",
       "      <td>pareja</td>\n",
       "      <td>object</td>\n",
       "      <td>Categórica</td>\n",
       "      <td>2</td>\n",
       "      <td>0</td>\n",
       "      <td>no</td>\n",
       "      <td>263</td>\n",
       "      <td>yes</td>\n",
       "      <td>no</td>\n",
       "    </tr>\n",
       "    <tr>\n",
       "      <th>relacionfamilia</th>\n",
       "      <td>relacionfamilia</td>\n",
       "      <td>int64</td>\n",
       "      <td>Discreta</td>\n",
       "      <td>5</td>\n",
       "      <td>0</td>\n",
       "      <td>4</td>\n",
       "      <td>195</td>\n",
       "      <td>5</td>\n",
       "      <td>1</td>\n",
       "    </tr>\n",
       "    <tr>\n",
       "      <th>tiempolibre</th>\n",
       "      <td>tiempolibre</td>\n",
       "      <td>int64</td>\n",
       "      <td>Discreta</td>\n",
       "      <td>5</td>\n",
       "      <td>0</td>\n",
       "      <td>3</td>\n",
       "      <td>157</td>\n",
       "      <td>5</td>\n",
       "      <td>1</td>\n",
       "    </tr>\n",
       "    <tr>\n",
       "      <th>salidaamigos</th>\n",
       "      <td>salidaamigos</td>\n",
       "      <td>int64</td>\n",
       "      <td>Discreta</td>\n",
       "      <td>5</td>\n",
       "      <td>0</td>\n",
       "      <td>3</td>\n",
       "      <td>130</td>\n",
       "      <td>5</td>\n",
       "      <td>1</td>\n",
       "    </tr>\n",
       "    <tr>\n",
       "      <th>alcohols</th>\n",
       "      <td>alcohols</td>\n",
       "      <td>int64</td>\n",
       "      <td>Discreta</td>\n",
       "      <td>5</td>\n",
       "      <td>0</td>\n",
       "      <td>1</td>\n",
       "      <td>276</td>\n",
       "      <td>5</td>\n",
       "      <td>1</td>\n",
       "    </tr>\n",
       "    <tr>\n",
       "      <th>alcoholw</th>\n",
       "      <td>alcoholw</td>\n",
       "      <td>int64</td>\n",
       "      <td>Discreta</td>\n",
       "      <td>5</td>\n",
       "      <td>0</td>\n",
       "      <td>1</td>\n",
       "      <td>151</td>\n",
       "      <td>5</td>\n",
       "      <td>1</td>\n",
       "    </tr>\n",
       "    <tr>\n",
       "      <th>estadosalud</th>\n",
       "      <td>estadosalud</td>\n",
       "      <td>int64</td>\n",
       "      <td>Discreta</td>\n",
       "      <td>5</td>\n",
       "      <td>0</td>\n",
       "      <td>5</td>\n",
       "      <td>146</td>\n",
       "      <td>5</td>\n",
       "      <td>1</td>\n",
       "    </tr>\n",
       "    <tr>\n",
       "      <th>inasistencia</th>\n",
       "      <td>inasistencia</td>\n",
       "      <td>int64</td>\n",
       "      <td>Discreta</td>\n",
       "      <td>34</td>\n",
       "      <td>0</td>\n",
       "      <td>0</td>\n",
       "      <td>115</td>\n",
       "      <td>75</td>\n",
       "      <td>0</td>\n",
       "    </tr>\n",
       "    <tr>\n",
       "      <th>g1</th>\n",
       "      <td>g1</td>\n",
       "      <td>int64</td>\n",
       "      <td>Discreta</td>\n",
       "      <td>17</td>\n",
       "      <td>0</td>\n",
       "      <td>10</td>\n",
       "      <td>51</td>\n",
       "      <td>19</td>\n",
       "      <td>3</td>\n",
       "    </tr>\n",
       "    <tr>\n",
       "      <th>g2</th>\n",
       "      <td>g2</td>\n",
       "      <td>int64</td>\n",
       "      <td>Discreta</td>\n",
       "      <td>17</td>\n",
       "      <td>0</td>\n",
       "      <td>9</td>\n",
       "      <td>50</td>\n",
       "      <td>19</td>\n",
       "      <td>0</td>\n",
       "    </tr>\n",
       "    <tr>\n",
       "      <th>g3</th>\n",
       "      <td>g3</td>\n",
       "      <td>int64</td>\n",
       "      <td>Discreta</td>\n",
       "      <td>18</td>\n",
       "      <td>0</td>\n",
       "      <td>10</td>\n",
       "      <td>56</td>\n",
       "      <td>20</td>\n",
       "      <td>0</td>\n",
       "    </tr>\n",
       "  </tbody>\n",
       "</table>\n",
       "</div>"
      ],
      "text/plain": [
       "                          Nombre    Dato        Tipo  Valores_unicos  \\\n",
       "escuela                  escuela  object  Categórica               2   \n",
       "genero                    genero  object  Categórica               2   \n",
       "edad                        edad   int64    Discreta               8   \n",
       "ubicacion              ubicacion  object  Categórica               2   \n",
       "cantfami                cantfami  object  Categórica               2   \n",
       "padreseparados    padreseparados  object  Categórica               2   \n",
       "educamadre            educamadre   int64    Discreta               5   \n",
       "educapadre            educapadre   int64    Discreta               5   \n",
       "trabajomadre        trabajomadre  object  Categórica               5   \n",
       "trabajopadre        trabajopadre  object  Categórica               5   \n",
       "razón                      razón  object  Categórica               4   \n",
       "tutor                      tutor  object  Categórica               3   \n",
       "tdesplaza              tdesplaza   int64    Discreta               4   \n",
       "testudio                testudio   int64    Discreta               4   \n",
       "clasesperdidas    clasesperdidas   int64    Discreta               4   \n",
       "tutorias                tutorias  object  Categórica               2   \n",
       "tutorfamilia        tutorfamilia  object  Categórica               2   \n",
       "clasesextra          clasesextra  object  Categórica               2   \n",
       "extracur                extracur  object  Categórica               2   \n",
       "enfermeria            enfermeria  object  Categórica               2   \n",
       "univer                    univer  object  Categórica               2   \n",
       "internet                internet  object  Categórica               2   \n",
       "pareja                    pareja  object  Categórica               2   \n",
       "relacionfamilia  relacionfamilia   int64    Discreta               5   \n",
       "tiempolibre          tiempolibre   int64    Discreta               5   \n",
       "salidaamigos        salidaamigos   int64    Discreta               5   \n",
       "alcohols                alcohols   int64    Discreta               5   \n",
       "alcoholw                alcoholw   int64    Discreta               5   \n",
       "estadosalud          estadosalud   int64    Discreta               5   \n",
       "inasistencia        inasistencia   int64    Discreta              34   \n",
       "g1                            g1   int64    Discreta              17   \n",
       "g2                            g2   int64    Discreta              17   \n",
       "g3                            g3   int64    Discreta              18   \n",
       "\n",
       "                 Valores_nulos    Moda  Cantidad_moda      Máximo   Mínimo  \n",
       "escuela                      0      GP            349          MS       GP  \n",
       "genero                       0       F            208           M        F  \n",
       "edad                         0      16            104          22       15  \n",
       "ubicacion                    0       U            307           U        R  \n",
       "cantfami                     0     GT3            281         LE3      GT3  \n",
       "padreseparados               0       T            354           T        A  \n",
       "educamadre                   0       4            131           4        0  \n",
       "educapadre                   0       2            115           4        0  \n",
       "trabajomadre                 0   other            141     teacher  at_home  \n",
       "trabajopadre                 0   other            217     teacher  at_home  \n",
       "razón                        0  course            145  reputation   course  \n",
       "tutor                        0  mother            273       other   father  \n",
       "tdesplaza                    0       1            257           4        1  \n",
       "testudio                     0       2            198           4        1  \n",
       "clasesperdidas               0       0            312           3        0  \n",
       "tutorias                     0      no            344         yes       no  \n",
       "tutorfamilia                 0     yes            242         yes       no  \n",
       "clasesextra                  0      no            214         yes       no  \n",
       "extracur                     0     yes            201         yes       no  \n",
       "enfermeria                   0     yes            314         yes       no  \n",
       "univer                       0     yes            375         yes       no  \n",
       "internet                     0     yes            329         yes       no  \n",
       "pareja                       0      no            263         yes       no  \n",
       "relacionfamilia              0       4            195           5        1  \n",
       "tiempolibre                  0       3            157           5        1  \n",
       "salidaamigos                 0       3            130           5        1  \n",
       "alcohols                     0       1            276           5        1  \n",
       "alcoholw                     0       1            151           5        1  \n",
       "estadosalud                  0       5            146           5        1  \n",
       "inasistencia                 0       0            115          75        0  \n",
       "g1                           0      10             51          19        3  \n",
       "g2                           0       9             50          19        0  \n",
       "g3                           0      10             56          20        0  "
      ]
     },
     "execution_count": 8,
     "metadata": {},
     "output_type": "execute_result"
    }
   ],
   "source": [
    "RevisorData(data)"
   ]
  },
  {
   "cell_type": "raw",
   "id": "a6b879cb-8468-4999-91b9-949672988e74",
   "metadata": {},
   "source": [
    "Como se puede evidenciar, se presenta una base de datos con 33 variables, en las cuales no se tienen valores nulos o faltantes, a continuación se realizara un analisis sobre el tipo de datos que contiene cada variable y su tratamiento:"
   ]
  },
  {
   "cell_type": "code",
   "execution_count": 9,
   "id": "e046b2de-f704-4486-957e-6ffe9d103967",
   "metadata": {},
   "outputs": [],
   "source": [
    "dc = data.select_dtypes(include=['object','category'])\n",
    "dd = data.select_dtypes(include='int64')"
   ]
  },
  {
   "cell_type": "code",
   "execution_count": 10,
   "id": "c0746135-e196-4619-9b92-73a411c2665b",
   "metadata": {},
   "outputs": [
    {
     "name": "stdout",
     "output_type": "stream",
     "text": [
      "Variables Categoricas: \n",
      "\n"
     ]
    },
    {
     "data": {
      "text/html": [
       "<div>\n",
       "<style scoped>\n",
       "    .dataframe tbody tr th:only-of-type {\n",
       "        vertical-align: middle;\n",
       "    }\n",
       "\n",
       "    .dataframe tbody tr th {\n",
       "        vertical-align: top;\n",
       "    }\n",
       "\n",
       "    .dataframe thead th {\n",
       "        text-align: right;\n",
       "    }\n",
       "</style>\n",
       "<table border=\"1\" class=\"dataframe\">\n",
       "  <thead>\n",
       "    <tr style=\"text-align: right;\">\n",
       "      <th></th>\n",
       "      <th>escuela</th>\n",
       "      <th>genero</th>\n",
       "      <th>ubicacion</th>\n",
       "      <th>cantfami</th>\n",
       "      <th>padreseparados</th>\n",
       "      <th>trabajomadre</th>\n",
       "      <th>trabajopadre</th>\n",
       "      <th>razón</th>\n",
       "      <th>tutor</th>\n",
       "      <th>tutorias</th>\n",
       "      <th>tutorfamilia</th>\n",
       "      <th>clasesextra</th>\n",
       "      <th>extracur</th>\n",
       "      <th>enfermeria</th>\n",
       "      <th>univer</th>\n",
       "      <th>internet</th>\n",
       "      <th>pareja</th>\n",
       "    </tr>\n",
       "  </thead>\n",
       "  <tbody>\n",
       "    <tr>\n",
       "      <th>0</th>\n",
       "      <td>GP</td>\n",
       "      <td>F</td>\n",
       "      <td>U</td>\n",
       "      <td>GT3</td>\n",
       "      <td>A</td>\n",
       "      <td>at_home</td>\n",
       "      <td>teacher</td>\n",
       "      <td>course</td>\n",
       "      <td>mother</td>\n",
       "      <td>yes</td>\n",
       "      <td>no</td>\n",
       "      <td>no</td>\n",
       "      <td>no</td>\n",
       "      <td>yes</td>\n",
       "      <td>yes</td>\n",
       "      <td>no</td>\n",
       "      <td>no</td>\n",
       "    </tr>\n",
       "    <tr>\n",
       "      <th>1</th>\n",
       "      <td>GP</td>\n",
       "      <td>F</td>\n",
       "      <td>U</td>\n",
       "      <td>GT3</td>\n",
       "      <td>T</td>\n",
       "      <td>at_home</td>\n",
       "      <td>other</td>\n",
       "      <td>course</td>\n",
       "      <td>father</td>\n",
       "      <td>no</td>\n",
       "      <td>yes</td>\n",
       "      <td>no</td>\n",
       "      <td>no</td>\n",
       "      <td>no</td>\n",
       "      <td>yes</td>\n",
       "      <td>yes</td>\n",
       "      <td>no</td>\n",
       "    </tr>\n",
       "    <tr>\n",
       "      <th>2</th>\n",
       "      <td>GP</td>\n",
       "      <td>F</td>\n",
       "      <td>U</td>\n",
       "      <td>LE3</td>\n",
       "      <td>T</td>\n",
       "      <td>at_home</td>\n",
       "      <td>other</td>\n",
       "      <td>other</td>\n",
       "      <td>mother</td>\n",
       "      <td>yes</td>\n",
       "      <td>no</td>\n",
       "      <td>yes</td>\n",
       "      <td>no</td>\n",
       "      <td>yes</td>\n",
       "      <td>yes</td>\n",
       "      <td>yes</td>\n",
       "      <td>no</td>\n",
       "    </tr>\n",
       "  </tbody>\n",
       "</table>\n",
       "</div>"
      ],
      "text/plain": [
       "  escuela genero ubicacion cantfami padreseparados trabajomadre trabajopadre  \\\n",
       "0      GP      F         U      GT3              A      at_home      teacher   \n",
       "1      GP      F         U      GT3              T      at_home        other   \n",
       "2      GP      F         U      LE3              T      at_home        other   \n",
       "\n",
       "    razón   tutor tutorias tutorfamilia clasesextra extracur enfermeria  \\\n",
       "0  course  mother      yes           no          no       no        yes   \n",
       "1  course  father       no          yes          no       no         no   \n",
       "2   other  mother      yes           no         yes       no        yes   \n",
       "\n",
       "  univer internet pareja  \n",
       "0    yes       no     no  \n",
       "1    yes      yes     no  \n",
       "2    yes      yes     no  "
      ]
     },
     "execution_count": 10,
     "metadata": {},
     "output_type": "execute_result"
    }
   ],
   "source": [
    "print('Variables Categoricas: \\n')\n",
    "dc.head(3)"
   ]
  },
  {
   "cell_type": "code",
   "execution_count": 11,
   "id": "90fc334c-6c91-4977-870f-e6470f4bec20",
   "metadata": {},
   "outputs": [
    {
     "name": "stdout",
     "output_type": "stream",
     "text": [
      "Variables Discretas: \n",
      "\n"
     ]
    },
    {
     "data": {
      "text/html": [
       "<div>\n",
       "<style scoped>\n",
       "    .dataframe tbody tr th:only-of-type {\n",
       "        vertical-align: middle;\n",
       "    }\n",
       "\n",
       "    .dataframe tbody tr th {\n",
       "        vertical-align: top;\n",
       "    }\n",
       "\n",
       "    .dataframe thead th {\n",
       "        text-align: right;\n",
       "    }\n",
       "</style>\n",
       "<table border=\"1\" class=\"dataframe\">\n",
       "  <thead>\n",
       "    <tr style=\"text-align: right;\">\n",
       "      <th></th>\n",
       "      <th>edad</th>\n",
       "      <th>educamadre</th>\n",
       "      <th>educapadre</th>\n",
       "      <th>tdesplaza</th>\n",
       "      <th>testudio</th>\n",
       "      <th>clasesperdidas</th>\n",
       "      <th>relacionfamilia</th>\n",
       "      <th>tiempolibre</th>\n",
       "      <th>salidaamigos</th>\n",
       "      <th>alcohols</th>\n",
       "      <th>alcoholw</th>\n",
       "      <th>estadosalud</th>\n",
       "      <th>inasistencia</th>\n",
       "      <th>g1</th>\n",
       "      <th>g2</th>\n",
       "      <th>g3</th>\n",
       "    </tr>\n",
       "  </thead>\n",
       "  <tbody>\n",
       "    <tr>\n",
       "      <th>0</th>\n",
       "      <td>18</td>\n",
       "      <td>4</td>\n",
       "      <td>4</td>\n",
       "      <td>2</td>\n",
       "      <td>2</td>\n",
       "      <td>0</td>\n",
       "      <td>4</td>\n",
       "      <td>3</td>\n",
       "      <td>4</td>\n",
       "      <td>1</td>\n",
       "      <td>1</td>\n",
       "      <td>3</td>\n",
       "      <td>6</td>\n",
       "      <td>5</td>\n",
       "      <td>6</td>\n",
       "      <td>6</td>\n",
       "    </tr>\n",
       "    <tr>\n",
       "      <th>1</th>\n",
       "      <td>17</td>\n",
       "      <td>1</td>\n",
       "      <td>1</td>\n",
       "      <td>1</td>\n",
       "      <td>2</td>\n",
       "      <td>0</td>\n",
       "      <td>5</td>\n",
       "      <td>3</td>\n",
       "      <td>3</td>\n",
       "      <td>1</td>\n",
       "      <td>1</td>\n",
       "      <td>3</td>\n",
       "      <td>4</td>\n",
       "      <td>5</td>\n",
       "      <td>5</td>\n",
       "      <td>6</td>\n",
       "    </tr>\n",
       "    <tr>\n",
       "      <th>2</th>\n",
       "      <td>15</td>\n",
       "      <td>1</td>\n",
       "      <td>1</td>\n",
       "      <td>1</td>\n",
       "      <td>2</td>\n",
       "      <td>3</td>\n",
       "      <td>4</td>\n",
       "      <td>3</td>\n",
       "      <td>2</td>\n",
       "      <td>2</td>\n",
       "      <td>3</td>\n",
       "      <td>3</td>\n",
       "      <td>10</td>\n",
       "      <td>7</td>\n",
       "      <td>8</td>\n",
       "      <td>10</td>\n",
       "    </tr>\n",
       "  </tbody>\n",
       "</table>\n",
       "</div>"
      ],
      "text/plain": [
       "   edad  educamadre  educapadre  tdesplaza  testudio  clasesperdidas  \\\n",
       "0    18           4           4          2         2               0   \n",
       "1    17           1           1          1         2               0   \n",
       "2    15           1           1          1         2               3   \n",
       "\n",
       "   relacionfamilia  tiempolibre  salidaamigos  alcohols  alcoholw  \\\n",
       "0                4            3             4         1         1   \n",
       "1                5            3             3         1         1   \n",
       "2                4            3             2         2         3   \n",
       "\n",
       "   estadosalud  inasistencia  g1  g2  g3  \n",
       "0            3             6   5   6   6  \n",
       "1            3             4   5   5   6  \n",
       "2            3            10   7   8  10  "
      ]
     },
     "execution_count": 11,
     "metadata": {},
     "output_type": "execute_result"
    }
   ],
   "source": [
    "print('Variables Discretas: \\n')\n",
    "dd.head(3)"
   ]
  },
  {
   "cell_type": "code",
   "execution_count": 12,
   "id": "1dfb16ea-ce17-4c2f-8eb9-348ffa9b804c",
   "metadata": {},
   "outputs": [
    {
     "data": {
      "text/html": [
       "<div>\n",
       "<style scoped>\n",
       "    .dataframe tbody tr th:only-of-type {\n",
       "        vertical-align: middle;\n",
       "    }\n",
       "\n",
       "    .dataframe tbody tr th {\n",
       "        vertical-align: top;\n",
       "    }\n",
       "\n",
       "    .dataframe thead th {\n",
       "        text-align: right;\n",
       "    }\n",
       "</style>\n",
       "<table border=\"1\" class=\"dataframe\">\n",
       "  <thead>\n",
       "    <tr style=\"text-align: right;\">\n",
       "      <th></th>\n",
       "      <th>escuela</th>\n",
       "      <th>genero</th>\n",
       "      <th>ubicacion</th>\n",
       "      <th>cantfami</th>\n",
       "      <th>padreseparados</th>\n",
       "      <th>educamadre</th>\n",
       "      <th>educapadre</th>\n",
       "      <th>trabajomadre</th>\n",
       "      <th>trabajopadre</th>\n",
       "      <th>razón</th>\n",
       "      <th>...</th>\n",
       "      <th>enfermeria</th>\n",
       "      <th>univer</th>\n",
       "      <th>internet</th>\n",
       "      <th>pareja</th>\n",
       "      <th>relacionfamilia</th>\n",
       "      <th>tiempolibre</th>\n",
       "      <th>salidaamigos</th>\n",
       "      <th>alcohols</th>\n",
       "      <th>alcoholw</th>\n",
       "      <th>estadosalud</th>\n",
       "    </tr>\n",
       "  </thead>\n",
       "  <tbody>\n",
       "    <tr>\n",
       "      <th>0</th>\n",
       "      <td>GP</td>\n",
       "      <td>F</td>\n",
       "      <td>U</td>\n",
       "      <td>GT3</td>\n",
       "      <td>A</td>\n",
       "      <td>4</td>\n",
       "      <td>4</td>\n",
       "      <td>at_home</td>\n",
       "      <td>teacher</td>\n",
       "      <td>course</td>\n",
       "      <td>...</td>\n",
       "      <td>yes</td>\n",
       "      <td>yes</td>\n",
       "      <td>no</td>\n",
       "      <td>no</td>\n",
       "      <td>4</td>\n",
       "      <td>3</td>\n",
       "      <td>4</td>\n",
       "      <td>1</td>\n",
       "      <td>1</td>\n",
       "      <td>3</td>\n",
       "    </tr>\n",
       "    <tr>\n",
       "      <th>1</th>\n",
       "      <td>GP</td>\n",
       "      <td>F</td>\n",
       "      <td>U</td>\n",
       "      <td>GT3</td>\n",
       "      <td>T</td>\n",
       "      <td>1</td>\n",
       "      <td>1</td>\n",
       "      <td>at_home</td>\n",
       "      <td>other</td>\n",
       "      <td>course</td>\n",
       "      <td>...</td>\n",
       "      <td>no</td>\n",
       "      <td>yes</td>\n",
       "      <td>yes</td>\n",
       "      <td>no</td>\n",
       "      <td>5</td>\n",
       "      <td>3</td>\n",
       "      <td>3</td>\n",
       "      <td>1</td>\n",
       "      <td>1</td>\n",
       "      <td>3</td>\n",
       "    </tr>\n",
       "    <tr>\n",
       "      <th>2</th>\n",
       "      <td>GP</td>\n",
       "      <td>F</td>\n",
       "      <td>U</td>\n",
       "      <td>LE3</td>\n",
       "      <td>T</td>\n",
       "      <td>1</td>\n",
       "      <td>1</td>\n",
       "      <td>at_home</td>\n",
       "      <td>other</td>\n",
       "      <td>other</td>\n",
       "      <td>...</td>\n",
       "      <td>yes</td>\n",
       "      <td>yes</td>\n",
       "      <td>yes</td>\n",
       "      <td>no</td>\n",
       "      <td>4</td>\n",
       "      <td>3</td>\n",
       "      <td>2</td>\n",
       "      <td>2</td>\n",
       "      <td>3</td>\n",
       "      <td>3</td>\n",
       "    </tr>\n",
       "  </tbody>\n",
       "</table>\n",
       "<p>3 rows × 28 columns</p>\n",
       "</div>"
      ],
      "text/plain": [
       "  escuela genero ubicacion cantfami padreseparados  educamadre  educapadre  \\\n",
       "0      GP      F         U      GT3              A           4           4   \n",
       "1      GP      F         U      GT3              T           1           1   \n",
       "2      GP      F         U      LE3              T           1           1   \n",
       "\n",
       "  trabajomadre trabajopadre   razón  ... enfermeria  univer  internet  pareja  \\\n",
       "0      at_home      teacher  course  ...        yes     yes        no      no   \n",
       "1      at_home        other  course  ...         no     yes       yes      no   \n",
       "2      at_home        other   other  ...        yes     yes       yes      no   \n",
       "\n",
       "  relacionfamilia tiempolibre salidaamigos alcohols alcoholw estadosalud  \n",
       "0               4           3            4        1        1           3  \n",
       "1               5           3            3        1        1           3  \n",
       "2               4           3            2        2        3           3  \n",
       "\n",
       "[3 rows x 28 columns]"
      ]
     },
     "execution_count": 12,
     "metadata": {},
     "output_type": "execute_result"
    }
   ],
   "source": [
    "dc = data.loc[:,['escuela','genero','ubicacion','cantfami','padreseparados','educamadre','educapadre','trabajomadre','trabajopadre','razón','tutor','tdesplaza','testudio','clasesperdidas','tutorias','tutorfamilia','clasesextra','extracur','enfermeria','univer','internet','pareja','relacionfamilia','tiempolibre','salidaamigos','alcohols','alcoholw','estadosalud']]\n",
    "dc.head(3)"
   ]
  },
  {
   "cell_type": "raw",
   "id": "bc6f47bc-e79e-4e16-b578-5f09aa703091",
   "metadata": {},
   "source": [
    "Al analizar los tipos de las diferentes variables, se encontraron variables que el sistema reconocia como continuas pero que por su parte eran de tipo categorico, como por ejemplo la variable \"Educación de la madre\" o \"relación con la familia\", para ello estas variables se anexaron a la base de tipo categorico para su respectivo analisis, quedando asi 5 variables de tipo \"continuo\" y 28 variables de tipo \"categorico\"."
   ]
  },
  {
   "cell_type": "markdown",
   "id": "532ea8a8-0972-4124-97bd-ea6c0d9ca8fa",
   "metadata": {},
   "source": [
    "**Analisis Univariado"
   ]
  },
  {
   "cell_type": "markdown",
   "id": "a2fc4bc8-1219-422e-afd2-f52242ad822b",
   "metadata": {},
   "source": [
    "***Analisis variables continuas"
   ]
  },
  {
   "cell_type": "code",
   "execution_count": 13,
   "id": "26ee7538-ec18-4272-9191-f1e052d2636f",
   "metadata": {},
   "outputs": [
    {
     "data": {
      "text/html": [
       "<div>\n",
       "<style scoped>\n",
       "    .dataframe tbody tr th:only-of-type {\n",
       "        vertical-align: middle;\n",
       "    }\n",
       "\n",
       "    .dataframe tbody tr th {\n",
       "        vertical-align: top;\n",
       "    }\n",
       "\n",
       "    .dataframe thead th {\n",
       "        text-align: right;\n",
       "    }\n",
       "</style>\n",
       "<table border=\"1\" class=\"dataframe\">\n",
       "  <thead>\n",
       "    <tr style=\"text-align: right;\">\n",
       "      <th></th>\n",
       "      <th>edad</th>\n",
       "      <th>inasistencia</th>\n",
       "      <th>g1</th>\n",
       "      <th>g2</th>\n",
       "      <th>g3</th>\n",
       "    </tr>\n",
       "  </thead>\n",
       "  <tbody>\n",
       "    <tr>\n",
       "      <th>0</th>\n",
       "      <td>18</td>\n",
       "      <td>6</td>\n",
       "      <td>5</td>\n",
       "      <td>6</td>\n",
       "      <td>6</td>\n",
       "    </tr>\n",
       "    <tr>\n",
       "      <th>1</th>\n",
       "      <td>17</td>\n",
       "      <td>4</td>\n",
       "      <td>5</td>\n",
       "      <td>5</td>\n",
       "      <td>6</td>\n",
       "    </tr>\n",
       "    <tr>\n",
       "      <th>2</th>\n",
       "      <td>15</td>\n",
       "      <td>10</td>\n",
       "      <td>7</td>\n",
       "      <td>8</td>\n",
       "      <td>10</td>\n",
       "    </tr>\n",
       "    <tr>\n",
       "      <th>3</th>\n",
       "      <td>15</td>\n",
       "      <td>2</td>\n",
       "      <td>15</td>\n",
       "      <td>14</td>\n",
       "      <td>15</td>\n",
       "    </tr>\n",
       "    <tr>\n",
       "      <th>4</th>\n",
       "      <td>16</td>\n",
       "      <td>4</td>\n",
       "      <td>6</td>\n",
       "      <td>10</td>\n",
       "      <td>10</td>\n",
       "    </tr>\n",
       "    <tr>\n",
       "      <th>...</th>\n",
       "      <td>...</td>\n",
       "      <td>...</td>\n",
       "      <td>...</td>\n",
       "      <td>...</td>\n",
       "      <td>...</td>\n",
       "    </tr>\n",
       "    <tr>\n",
       "      <th>390</th>\n",
       "      <td>20</td>\n",
       "      <td>11</td>\n",
       "      <td>9</td>\n",
       "      <td>9</td>\n",
       "      <td>9</td>\n",
       "    </tr>\n",
       "    <tr>\n",
       "      <th>391</th>\n",
       "      <td>17</td>\n",
       "      <td>3</td>\n",
       "      <td>14</td>\n",
       "      <td>16</td>\n",
       "      <td>16</td>\n",
       "    </tr>\n",
       "    <tr>\n",
       "      <th>392</th>\n",
       "      <td>21</td>\n",
       "      <td>3</td>\n",
       "      <td>10</td>\n",
       "      <td>8</td>\n",
       "      <td>7</td>\n",
       "    </tr>\n",
       "    <tr>\n",
       "      <th>393</th>\n",
       "      <td>18</td>\n",
       "      <td>0</td>\n",
       "      <td>11</td>\n",
       "      <td>12</td>\n",
       "      <td>10</td>\n",
       "    </tr>\n",
       "    <tr>\n",
       "      <th>394</th>\n",
       "      <td>19</td>\n",
       "      <td>5</td>\n",
       "      <td>8</td>\n",
       "      <td>9</td>\n",
       "      <td>9</td>\n",
       "    </tr>\n",
       "  </tbody>\n",
       "</table>\n",
       "<p>395 rows × 5 columns</p>\n",
       "</div>"
      ],
      "text/plain": [
       "     edad  inasistencia  g1  g2  g3\n",
       "0      18             6   5   6   6\n",
       "1      17             4   5   5   6\n",
       "2      15            10   7   8  10\n",
       "3      15             2  15  14  15\n",
       "4      16             4   6  10  10\n",
       "..    ...           ...  ..  ..  ..\n",
       "390    20            11   9   9   9\n",
       "391    17             3  14  16  16\n",
       "392    21             3  10   8   7\n",
       "393    18             0  11  12  10\n",
       "394    19             5   8   9   9\n",
       "\n",
       "[395 rows x 5 columns]"
      ]
     },
     "execution_count": 13,
     "metadata": {},
     "output_type": "execute_result"
    }
   ],
   "source": [
    "dd= data.loc[:,['edad','inasistencia','g1','g2','g3']]\n",
    "dd"
   ]
  },
  {
   "cell_type": "markdown",
   "id": "ae5852f9-e8ed-4d90-9b5f-30fd249044eb",
   "metadata": {},
   "source": [
    "Con el objetivo de conocer el comportamiento de cada de una de las variables, se realizó un diagrama de \"bigotes\" y de esta forma conocer el comportamiento de cada variable y de esta forma identificar si tiene algun tipo de datos erroneos con contribuyan a errores en el analisis del mismo"
   ]
  },
  {
   "cell_type": "code",
   "execution_count": 14,
   "id": "429bb823-ee2b-4ddb-9a90-25220827042d",
   "metadata": {},
   "outputs": [
    {
     "data": {
      "image/png": "[encoded data removed]",
      "text/plain": [
       "<Figure size 1440x720 with 1 Axes>"
      ]
     },
     "metadata": {
      "needs_background": "light"
     },
     "output_type": "display_data"
    }
   ],
   "source": [
    "dd.boxplot(return_type='dict', figsize=(20,10))\n",
    "plt.show()"
   ]
  },
  {
   "cell_type": "raw",
   "id": "4e3fbc21-782f-4f43-be81-7fd7a8df5e0b",
   "metadata": {},
   "source": [
    "De acuerdo a lo anterior se evidenciaron outliers en las variables de edad, inasistencia y calificación del degundo corte, motivo por el cual se profundizara en el analisis de estas variables para determinar su permanencia en el modelo."
   ]
  },
  {
   "cell_type": "markdown",
   "id": "7220044e-0160-4c5a-ae9f-33d927515d79",
   "metadata": {},
   "source": [
    "****Variable Edad"
   ]
  },
  {
   "cell_type": "raw",
   "id": "6882392a-f8cc-4ba9-ade6-7e2c1186ca9d",
   "metadata": {},
   "source": [
    "Al analizar la variable edad, solo encontramos un valor atipico, el cual corresponde a un registro con 22 años, al analizar el comportamiento de este con las demas variables observamos que no corresponde a un atipico de digitación sino que hace parte del modelo, motivo por el cual se decide dejar este registro en la base de datos."
   ]
  },
  {
   "cell_type": "code",
   "execution_count": 15,
   "id": "f5025cf5-3d47-468b-b0ce-069b896de7af",
   "metadata": {},
   "outputs": [
    {
     "data": {
      "text/html": [
       "<div>\n",
       "<style scoped>\n",
       "    .dataframe tbody tr th:only-of-type {\n",
       "        vertical-align: middle;\n",
       "    }\n",
       "\n",
       "    .dataframe tbody tr th {\n",
       "        vertical-align: top;\n",
       "    }\n",
       "\n",
       "    .dataframe thead th {\n",
       "        text-align: right;\n",
       "    }\n",
       "</style>\n",
       "<table border=\"1\" class=\"dataframe\">\n",
       "  <thead>\n",
       "    <tr style=\"text-align: right;\">\n",
       "      <th></th>\n",
       "      <th>escuela</th>\n",
       "      <th>genero</th>\n",
       "      <th>edad</th>\n",
       "      <th>ubicacion</th>\n",
       "      <th>cantfami</th>\n",
       "      <th>padreseparados</th>\n",
       "      <th>educamadre</th>\n",
       "      <th>educapadre</th>\n",
       "      <th>trabajomadre</th>\n",
       "      <th>trabajopadre</th>\n",
       "      <th>...</th>\n",
       "      <th>relacionfamilia</th>\n",
       "      <th>tiempolibre</th>\n",
       "      <th>salidaamigos</th>\n",
       "      <th>alcohols</th>\n",
       "      <th>alcoholw</th>\n",
       "      <th>estadosalud</th>\n",
       "      <th>inasistencia</th>\n",
       "      <th>g1</th>\n",
       "      <th>g2</th>\n",
       "      <th>g3</th>\n",
       "    </tr>\n",
       "  </thead>\n",
       "  <tbody>\n",
       "    <tr>\n",
       "      <th>247</th>\n",
       "      <td>GP</td>\n",
       "      <td>M</td>\n",
       "      <td>22</td>\n",
       "      <td>U</td>\n",
       "      <td>GT3</td>\n",
       "      <td>T</td>\n",
       "      <td>3</td>\n",
       "      <td>1</td>\n",
       "      <td>services</td>\n",
       "      <td>services</td>\n",
       "      <td>...</td>\n",
       "      <td>5</td>\n",
       "      <td>4</td>\n",
       "      <td>5</td>\n",
       "      <td>5</td>\n",
       "      <td>5</td>\n",
       "      <td>1</td>\n",
       "      <td>16</td>\n",
       "      <td>6</td>\n",
       "      <td>8</td>\n",
       "      <td>8</td>\n",
       "    </tr>\n",
       "  </tbody>\n",
       "</table>\n",
       "<p>1 rows × 33 columns</p>\n",
       "</div>"
      ],
      "text/plain": [
       "    escuela genero  edad ubicacion cantfami padreseparados  educamadre  \\\n",
       "247      GP      M    22         U      GT3              T           3   \n",
       "\n",
       "     educapadre trabajomadre trabajopadre  ... relacionfamilia tiempolibre  \\\n",
       "247           1     services     services  ...               5           4   \n",
       "\n",
       "     salidaamigos  alcohols  alcoholw estadosalud inasistencia g1 g2 g3  \n",
       "247             5         5         5           1           16  6  8  8  \n",
       "\n",
       "[1 rows x 33 columns]"
      ]
     },
     "execution_count": 15,
     "metadata": {},
     "output_type": "execute_result"
    }
   ],
   "source": [
    "max = dd['edad'].max()\n",
    "uout_edad = (data['edad']>= max)\n",
    "out_edad = data[uout_edad]\n",
    "out_edad"
   ]
  },
  {
   "cell_type": "code",
   "execution_count": 16,
   "id": "1bbc6795-ce5b-42bd-a187-3d65b92e66ab",
   "metadata": {},
   "outputs": [
    {
     "data": {
      "text/plain": [
       "Text(0.5, 1.0, 'Edad')"
      ]
     },
     "execution_count": 16,
     "metadata": {},
     "output_type": "execute_result"
    },
    {
     "data": {
      "image/png": "[encoded data removed]",
      "text/plain": [
       "<Figure size 360x360 with 1 Axes>"
      ]
     },
     "metadata": {
      "needs_background": "light"
     },
     "output_type": "display_data"
    }
   ],
   "source": [
    "sns.displot(x = dd['edad'], bins=20)\n",
    "ax = plt.gca()\n",
    "ax.set_title('Edad')"
   ]
  },
  {
   "cell_type": "markdown",
   "id": "c2f11d14-6c3e-401c-95d1-9860570135b6",
   "metadata": {},
   "source": [
    "Finalmente al analizar el comportamiento de la variable edad, observamos que esta se encuentra sesgada a la izquierda obteniendo un promedio de 16 años."
   ]
  },
  {
   "cell_type": "markdown",
   "id": "b2f9830d-845d-4dd2-989c-e7eb68be2f4c",
   "metadata": {},
   "source": [
    "****Variable Inasistencia"
   ]
  },
  {
   "cell_type": "code",
   "execution_count": 17,
   "id": "c8ea0f04-df3a-4d93-ba6c-d47f7a19a35c",
   "metadata": {},
   "outputs": [
    {
     "data": {
      "text/plain": [
       "Text(0.5, 1.0, 'Inasistencia a clases')"
      ]
     },
     "execution_count": 17,
     "metadata": {},
     "output_type": "execute_result"
    },
    {
     "data": {
      "image/png": "[encoded data removed]",
      "text/plain": [
       "<Figure size 360x360 with 1 Axes>"
      ]
     },
     "metadata": {
      "needs_background": "light"
     },
     "output_type": "display_data"
    }
   ],
   "source": [
    "sns.displot(x = dd['inasistencia'], bins=20)\n",
    "ax = plt.gca()\n",
    "ax.set_title('Inasistencia a clases')"
   ]
  },
  {
   "cell_type": "code",
   "execution_count": 18,
   "id": "f05c9ec4-9072-4441-b9ce-cdcf75828560",
   "metadata": {},
   "outputs": [
    {
     "name": "stdout",
     "output_type": "stream",
     "text": [
      "Primer cuartil 0.0\n",
      "Tercer cuartil 8.0\n",
      "Rango intercuartil 8.0\n",
      "Mediana 4.0\n",
      "Valor mínimo 0\n",
      "Valor máximo 75\n"
     ]
    }
   ],
   "source": [
    "Q1_ina=dd['inasistencia'].quantile(0.25)\n",
    "print('Primer cuartil', Q1_ina)\n",
    "\n",
    "Q3_ina=dd['inasistencia'].quantile(0.75)\n",
    "print('Tercer cuartil', Q3_ina)\n",
    "\n",
    "IQR_ina=Q3_ina-Q1_ina\n",
    "print('Rango intercuartil', IQR_ina)\n",
    "\n",
    "Mediana_ina =dd['inasistencia'].median()\n",
    "print('Mediana', Mediana_ina)\n",
    "\n",
    "Valor_mínimo_ina=dd['inasistencia'].min()\n",
    "print('Valor mínimo', Valor_mínimo_ina)\n",
    "\n",
    "Valor_máximo_ina=dd['inasistencia'].max()\n",
    "print('Valor máximo', Valor_máximo_ina)"
   ]
  },
  {
   "cell_type": "code",
   "execution_count": 19,
   "id": "f8a6855b-a6b1-4301-944a-0c4acdb8b2e8",
   "metadata": {},
   "outputs": [
    {
     "name": "stdout",
     "output_type": "stream",
     "text": [
      "BI_Calculado \n",
      " -12.0\n",
      "BS_Calculado \n",
      " 20.0\n"
     ]
    }
   ],
   "source": [
    "BI_ina=(Q1_ina-(1.5 * IQR_ina))\n",
    "print('BI_Calculado \\n', BI_ina)\n",
    "\n",
    "BS_ina=(Q3_ina+(1.5 * IQR_ina))\n",
    "print('BS_Calculado \\n', BS_ina)"
   ]
  },
  {
   "cell_type": "code",
   "execution_count": 20,
   "id": "2ac559f3-2916-42e3-960b-93131fa66bb3",
   "metadata": {},
   "outputs": [
    {
     "data": {
      "text/html": [
       "<div>\n",
       "<style scoped>\n",
       "    .dataframe tbody tr th:only-of-type {\n",
       "        vertical-align: middle;\n",
       "    }\n",
       "\n",
       "    .dataframe tbody tr th {\n",
       "        vertical-align: top;\n",
       "    }\n",
       "\n",
       "    .dataframe thead th {\n",
       "        text-align: right;\n",
       "    }\n",
       "</style>\n",
       "<table border=\"1\" class=\"dataframe\">\n",
       "  <thead>\n",
       "    <tr style=\"text-align: right;\">\n",
       "      <th></th>\n",
       "      <th>edad</th>\n",
       "      <th>inasistencia</th>\n",
       "      <th>g1</th>\n",
       "      <th>g2</th>\n",
       "      <th>g3</th>\n",
       "    </tr>\n",
       "  </thead>\n",
       "  <tbody>\n",
       "    <tr>\n",
       "      <th>40</th>\n",
       "      <td>16</td>\n",
       "      <td>25</td>\n",
       "      <td>7</td>\n",
       "      <td>10</td>\n",
       "      <td>11</td>\n",
       "    </tr>\n",
       "    <tr>\n",
       "      <th>74</th>\n",
       "      <td>16</td>\n",
       "      <td>54</td>\n",
       "      <td>11</td>\n",
       "      <td>12</td>\n",
       "      <td>11</td>\n",
       "    </tr>\n",
       "    <tr>\n",
       "      <th>103</th>\n",
       "      <td>15</td>\n",
       "      <td>26</td>\n",
       "      <td>7</td>\n",
       "      <td>6</td>\n",
       "      <td>6</td>\n",
       "    </tr>\n",
       "    <tr>\n",
       "      <th>183</th>\n",
       "      <td>17</td>\n",
       "      <td>56</td>\n",
       "      <td>9</td>\n",
       "      <td>9</td>\n",
       "      <td>8</td>\n",
       "    </tr>\n",
       "    <tr>\n",
       "      <th>198</th>\n",
       "      <td>17</td>\n",
       "      <td>24</td>\n",
       "      <td>18</td>\n",
       "      <td>18</td>\n",
       "      <td>18</td>\n",
       "    </tr>\n",
       "    <tr>\n",
       "      <th>205</th>\n",
       "      <td>17</td>\n",
       "      <td>28</td>\n",
       "      <td>10</td>\n",
       "      <td>9</td>\n",
       "      <td>9</td>\n",
       "    </tr>\n",
       "    <tr>\n",
       "      <th>216</th>\n",
       "      <td>17</td>\n",
       "      <td>22</td>\n",
       "      <td>6</td>\n",
       "      <td>6</td>\n",
       "      <td>4</td>\n",
       "    </tr>\n",
       "    <tr>\n",
       "      <th>260</th>\n",
       "      <td>18</td>\n",
       "      <td>21</td>\n",
       "      <td>17</td>\n",
       "      <td>18</td>\n",
       "      <td>18</td>\n",
       "    </tr>\n",
       "    <tr>\n",
       "      <th>276</th>\n",
       "      <td>18</td>\n",
       "      <td>75</td>\n",
       "      <td>10</td>\n",
       "      <td>9</td>\n",
       "      <td>9</td>\n",
       "    </tr>\n",
       "    <tr>\n",
       "      <th>277</th>\n",
       "      <td>18</td>\n",
       "      <td>22</td>\n",
       "      <td>9</td>\n",
       "      <td>9</td>\n",
       "      <td>9</td>\n",
       "    </tr>\n",
       "    <tr>\n",
       "      <th>280</th>\n",
       "      <td>17</td>\n",
       "      <td>30</td>\n",
       "      <td>8</td>\n",
       "      <td>8</td>\n",
       "      <td>8</td>\n",
       "    </tr>\n",
       "    <tr>\n",
       "      <th>307</th>\n",
       "      <td>19</td>\n",
       "      <td>38</td>\n",
       "      <td>8</td>\n",
       "      <td>9</td>\n",
       "      <td>8</td>\n",
       "    </tr>\n",
       "    <tr>\n",
       "      <th>313</th>\n",
       "      <td>19</td>\n",
       "      <td>22</td>\n",
       "      <td>13</td>\n",
       "      <td>10</td>\n",
       "      <td>11</td>\n",
       "    </tr>\n",
       "    <tr>\n",
       "      <th>315</th>\n",
       "      <td>19</td>\n",
       "      <td>40</td>\n",
       "      <td>13</td>\n",
       "      <td>11</td>\n",
       "      <td>11</td>\n",
       "    </tr>\n",
       "    <tr>\n",
       "      <th>320</th>\n",
       "      <td>17</td>\n",
       "      <td>23</td>\n",
       "      <td>13</td>\n",
       "      <td>13</td>\n",
       "      <td>13</td>\n",
       "    </tr>\n",
       "  </tbody>\n",
       "</table>\n",
       "</div>"
      ],
      "text/plain": [
       "     edad  inasistencia  g1  g2  g3\n",
       "40     16            25   7  10  11\n",
       "74     16            54  11  12  11\n",
       "103    15            26   7   6   6\n",
       "183    17            56   9   9   8\n",
       "198    17            24  18  18  18\n",
       "205    17            28  10   9   9\n",
       "216    17            22   6   6   4\n",
       "260    18            21  17  18  18\n",
       "276    18            75  10   9   9\n",
       "277    18            22   9   9   9\n",
       "280    17            30   8   8   8\n",
       "307    19            38   8   9   8\n",
       "313    19            22  13  10  11\n",
       "315    19            40  13  11  11\n",
       "320    17            23  13  13  13"
      ]
     },
     "execution_count": 20,
     "metadata": {},
     "output_type": "execute_result"
    }
   ],
   "source": [
    "uout_ina = ((dd['inasistencia'] >BS_ina))\n",
    "out_ina = dd[uout_ina]\n",
    "out_ina"
   ]
  },
  {
   "cell_type": "code",
   "execution_count": 21,
   "id": "75f480d8-de49-447d-aa14-de6cf49a8c06",
   "metadata": {},
   "outputs": [
    {
     "data": {
      "text/plain": [
       "(15, 5)"
      ]
     },
     "execution_count": 21,
     "metadata": {},
     "output_type": "execute_result"
    }
   ],
   "source": [
    "out_ina.shape"
   ]
  },
  {
   "cell_type": "markdown",
   "id": "a00ac9fe-7958-4a2b-8f98-6e028b5d376b",
   "metadata": {},
   "source": [
    "Al analizar los datos atipicos de la variable \"inasistencia\", encontramos 15 valores atipicos, los cuales superan el limite superior definido en 20, ..."
   ]
  },
  {
   "cell_type": "markdown",
   "id": "2e69ea90-0367-4b00-b033-9cb299f4e2be",
   "metadata": {},
   "source": [
    "****Variable notas primer corte"
   ]
  },
  {
   "cell_type": "code",
   "execution_count": 22,
   "id": "f2241db0-ec5a-4416-b8a4-401c7819a81e",
   "metadata": {},
   "outputs": [
    {
     "data": {
      "text/plain": [
       "Text(0.5, 1.0, 'Notas G1')"
      ]
     },
     "execution_count": 22,
     "metadata": {},
     "output_type": "execute_result"
    },
    {
     "data": {
      "image/png": "[encoded data removed]",
      "text/plain": [
       "<Figure size 360x360 with 1 Axes>"
      ]
     },
     "metadata": {
      "needs_background": "light"
     },
     "output_type": "display_data"
    }
   ],
   "source": [
    "sns.displot(x = dd['g1'], bins=20)\n",
    "ax = plt.gca()\n",
    "ax.set_title('Notas G1')"
   ]
  },
  {
   "cell_type": "markdown",
   "id": "a6caee8c-f9c5-4f1d-ae12-0310fb00ba66",
   "metadata": {},
   "source": [
    "****Variable notas segundo corte"
   ]
  },
  {
   "cell_type": "code",
   "execution_count": 23,
   "id": "8ac09d5e-cd32-4b92-a91d-c8800ed157cf",
   "metadata": {},
   "outputs": [
    {
     "data": {
      "text/plain": [
       "Text(0.5, 1.0, 'Notas G2')"
      ]
     },
     "execution_count": 23,
     "metadata": {},
     "output_type": "execute_result"
    },
    {
     "data": {
      "image/png": "[encoded data removed]",
      "text/plain": [
       "<Figure size 360x360 with 1 Axes>"
      ]
     },
     "metadata": {
      "needs_background": "light"
     },
     "output_type": "display_data"
    }
   ],
   "source": [
    "sns.displot(x = dd['g2'], bins=10)\n",
    "ax = plt.gca()\n",
    "ax.set_title('Notas G2')"
   ]
  },
  {
   "cell_type": "code",
   "execution_count": 24,
   "id": "f6cfdbbe-be69-432b-83f7-e41753d6fb3d",
   "metadata": {},
   "outputs": [
    {
     "name": "stdout",
     "output_type": "stream",
     "text": [
      "Primer cuartil 9.0\n",
      "Tercer cuartil 13.0\n",
      "Rango intercuartil 4.0\n",
      "Mediana 11.0\n",
      "Valor mínimo 0\n",
      "Valor máximo 19\n"
     ]
    }
   ],
   "source": [
    "Q1_g2=dd['g2'].quantile(0.25)\n",
    "print('Primer cuartil', Q1_g2)\n",
    "\n",
    "Q3_g2=dd['g2'].quantile(0.75)\n",
    "print('Tercer cuartil', Q3_g2)\n",
    "\n",
    "IQR_g2=Q3_g2-Q1_g2\n",
    "print('Rango intercuartil', IQR_g2)\n",
    "\n",
    "Mediana_g2 =dd['g2'].median()\n",
    "print('Mediana', Mediana_g2)\n",
    "\n",
    "Valor_mínimo_g2=dd['g2'].min()\n",
    "print('Valor mínimo', Valor_mínimo_g2)\n",
    "\n",
    "Valor_máximo_g2=dd['g2'].max()\n",
    "print('Valor máximo', Valor_máximo_g2)"
   ]
  },
  {
   "cell_type": "markdown",
   "id": "b9a1bbd0-a4af-4d3d-900d-63b1cdd7aa68",
   "metadata": {},
   "source": [
    "****Variable notas finales"
   ]
  },
  {
   "cell_type": "code",
   "execution_count": 25,
   "id": "275fc3bd-882f-46db-bb68-43fdb0d948f0",
   "metadata": {},
   "outputs": [
    {
     "data": {
      "text/plain": [
       "Text(0.5, 1.0, 'Notas G3')"
      ]
     },
     "execution_count": 25,
     "metadata": {},
     "output_type": "execute_result"
    },
    {
     "data": {
      "image/png": "[encoded data removed]",
      "text/plain": [
       "<Figure size 360x360 with 1 Axes>"
      ]
     },
     "metadata": {
      "needs_background": "light"
     },
     "output_type": "display_data"
    }
   ],
   "source": [
    "sns.displot(x = dd['g3'], bins=10)\n",
    "ax = plt.gca()\n",
    "ax.set_title('Notas G3')"
   ]
  },
  {
   "cell_type": "raw",
   "id": "0bd744b7-53a5-4bba-b5a3-1cd6941fd187",
   "metadata": {},
   "source": [
    "Para las variables referentes a las notas, todas se encontraron dentro de los rangos posibles para dichas calificaciones, motivo por el cual los valores identificados como atipicos no se excluyen del modelo."
   ]
  },
  {
   "cell_type": "markdown",
   "id": "979e4983-400e-4d38-971d-b359625a06e4",
   "metadata": {},
   "source": [
    "***Analisis variables categoricas"
   ]
  },
  {
   "cell_type": "code",
   "execution_count": null,
   "id": "9e81be27-a0bb-4d38-bd66-f9e6eeb4ba9a",
   "metadata": {},
   "outputs": [],
   "source": []
  },
  {
   "cell_type": "code",
   "execution_count": 51,
   "id": "25ddcf45-ea2c-423a-a90c-117a5dfc85d6",
   "metadata": {},
   "outputs": [
    {
     "name": "stderr",
     "output_type": "stream",
     "text": [
      "C:\\Users\\jcamelo\\Anaconda3\\lib\\site-packages\\seaborn\\_decorators.py:36: FutureWarning: Pass the following variable as a keyword arg: x. From version 0.12, the only valid positional argument will be `data`, and passing other arguments without an explicit keyword will result in an error or misinterpretation.\n",
      "  warnings.warn(\n"
     ]
    },
    {
     "data": {
      "image/png": "[encoded data removed]",
      "text/plain": [
       "<Figure size 432x288 with 1 Axes>"
      ]
     },
     "metadata": {
      "needs_background": "light"
     },
     "output_type": "display_data"
    },
    {
     "data": {
      "image/png": "[encoded data removed]",
      "text/plain": [
       "<Figure size 432x288 with 1 Axes>"
      ]
     },
     "metadata": {},
     "output_type": "display_data"
    }
   ],
   "source": [
    "sns.countplot(dc[\"escuela\"])\n",
    "plt.show()\n",
    "dc[\"escuela\"].value_counts().plot.pie()\n",
    "plt.show()"
   ]
  },
  {
   "cell_type": "code",
   "execution_count": null,
   "id": "6b5d616d-6346-4f3a-9aaf-c4bdd4544a4e",
   "metadata": {},
   "outputs": [],
   "source": [
    "sns.countplot(dc[\"escuela\"])\n",
    "plt.show()\n",
    "dc[\"escuela\"].value_counts().plot.pie()\n",
    "plt.show()"
   ]
  },
  {
   "cell_type": "markdown",
   "id": "867431c9-c80b-4fe2-a817-75941d35ff2e",
   "metadata": {},
   "source": [
    "**Analisis Bi-Variado"
   ]
  },
  {
   "cell_type": "markdown",
   "id": "0bf63184-07b4-421f-b77d-01a347f53a55",
   "metadata": {},
   "source": [
    "***Variables continuas"
   ]
  },
  {
   "cell_type": "code",
   "execution_count": 26,
   "id": "7573fa92-bdfe-4b15-94d6-d661775f1536",
   "metadata": {},
   "outputs": [
    {
     "data": {
      "text/plain": [
       "<seaborn.axisgrid.PairGrid at 0x141b1386220>"
      ]
     },
     "execution_count": 26,
     "metadata": {},
     "output_type": "execute_result"
    },
    {
     "data": {
      "image/png": "[encoded data removed]",
      "text/plain": [
       "<Figure size 900x900 with 30 Axes>"
      ]
     },
     "metadata": {
      "needs_background": "light"
     },
     "output_type": "display_data"
    }
   ],
   "source": [
    "sns.pairplot(dd, kind = 'reg',diag_kind='kde')"
   ]
  },
  {
   "cell_type": "code",
   "execution_count": 27,
   "id": "f15717ca-2f08-4144-a1fd-d9ae02eae880",
   "metadata": {},
   "outputs": [
    {
     "data": {
      "text/plain": [
       "<AxesSubplot:>"
      ]
     },
     "execution_count": 27,
     "metadata": {},
     "output_type": "execute_result"
    },
    {
     "data": {
      "image/png": "[encoded data removed]",
      "text/plain": [
       "<Figure size 432x288 with 2 Axes>"
      ]
     },
     "metadata": {
      "needs_background": "light"
     },
     "output_type": "display_data"
    }
   ],
   "source": [
    "sns.heatmap(dd.corr(), annot=True, cmap=sns.dark_palette(\"#79C\"))"
   ]
  }
 ],
 "metadata": {
  "kernelspec": {
   "display_name": "Python 3 (ipykernel)",
   "language": "python",
   "name": "python3"
  },
  "language_info": {
   "codemirror_mode": {
    "name": "ipython",
    "version": 3
   },
   "file_extension": ".py",
   "mimetype": "text/x-python",
   "name": "python",
   "nbconvert_exporter": "python",
   "pygments_lexer": "ipython3",
   "version": "3.9.7"
  }
 },
 "nbformat": 4,
 "nbformat_minor": 5
}
